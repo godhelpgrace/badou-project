{
 "cells": [
  {
   "cell_type": "code",
   "execution_count": 1,
   "id": "68fb779b-9182-4632-8ed9-480323e88e39",
   "metadata": {},
   "outputs": [],
   "source": [
    "%load_ext watermark"
   ]
  },
  {
   "cell_type": "code",
   "execution_count": 2,
   "id": "c42cb280-b5fa-42f6-8289-d65c5b19cef1",
   "metadata": {},
   "outputs": [
    {
     "name": "stdout",
     "output_type": "stream",
     "text": [
      "Last updated: 2022-07-30T17:25:58.277736+08:00\n",
      "\n",
      "Python implementation: CPython\n",
      "Python version       : 3.9.12\n",
      "IPython version      : 8.3.0\n",
      "\n",
      "Compiler    : GCC 7.5.0\n",
      "OS          : Linux\n",
      "Release     : 4.4.0-200-generic\n",
      "Machine     : x86_64\n",
      "Processor   : x86_64\n",
      "CPU cores   : 72\n",
      "Architecture: 64bit\n",
      "\n"
     ]
    }
   ],
   "source": [
    "%watermark"
   ]
  },
  {
   "cell_type": "markdown",
   "id": "7488a17a-a60f-4695-9ae7-8dfdfde74a7f",
   "metadata": {
    "tags": []
   },
   "source": [
    "#### 导入相关包"
   ]
  },
  {
   "cell_type": "code",
   "execution_count": 3,
   "id": "708bc091-a945-4fc9-908b-edd88a435581",
   "metadata": {},
   "outputs": [],
   "source": [
    "import os\n",
    "import time\n",
    "import numpy as np\n",
    "import pandas as pd\n",
    "import random\n",
    "import torch\n",
    "import torch.onnx\n",
    "from torch.utils.data import Dataset, DataLoader\n",
    "from torch.utils.data.dataset import Subset\n",
    "import torchvision\n",
    "from torchvision import transforms\n",
    "from torchvision import datasets\n",
    "import torch.nn as nn\n",
    "import torch.nn.functional as F\n",
    "import torch.optim as optim\n",
    "\n",
    "from torchsummary import summary\n",
    "\n",
    "import onnx\n",
    "from onnxconverter_common.data_types import FloatTensorType\n",
    "from onnxmltools import convert_sparkml\n",
    "import onnxruntime  \n",
    "\n",
    "import matplotlib.pyplot as plt\n",
    "%matplotlib inline"
   ]
  },
  {
   "cell_type": "markdown",
   "id": "dc92bd63-c826-4cc8-a4b5-bc1918372a6d",
   "metadata": {},
   "source": [
    "#### 环境配置与参数设置"
   ]
  },
  {
   "cell_type": "code",
   "execution_count": 4,
   "id": "5b0eba49-eeef-43b3-9a20-f52ede094c43",
   "metadata": {},
   "outputs": [],
   "source": [
    "device = torch.device(\"cuda:0\" if torch.cuda.is_available else \"cpu\")\n",
    "num_works = 5\n",
    "batch_size = 256\n",
    "epochs = 40\n",
    "lr = 1e-4\n",
    "num_class = 10"
   ]
  },
  {
   "cell_type": "markdown",
   "id": "dd33be71-8943-4772-a39b-4b0e7db9466c",
   "metadata": {},
   "source": [
    "#### 加载数据与数据预处理"
   ]
  },
  {
   "cell_type": "code",
   "execution_count": 5,
   "id": "0cd24ecb-675a-4795-ab73-d3b0e4a0efd5",
   "metadata": {},
   "outputs": [],
   "source": [
    "train_transforms = transforms.Compose([transforms.Resize((70, 70)), transforms.RandomCrop((64, 64)), transforms.ToTensor()])\n",
    "test_transforms = transforms.Compose([transforms.Resize((70, 70)), transforms.CenterCrop((64, 64)), transforms.ToTensor()])"
   ]
  },
  {
   "cell_type": "code",
   "execution_count": 6,
   "id": "59a03631-b30f-45b1-a3ec-98cfc74eaa8f",
   "metadata": {},
   "outputs": [],
   "source": [
    "# 提取 5test_dataloader0k的数据，48k 用于训练与验证、2k 用于测试\n",
    "train_index = torch.arange(0, 45000)\n",
    "val_index = torch.arange(45000, 50000)"
   ]
  },
  {
   "cell_type": "code",
   "execution_count": 7,
   "id": "b65faa07-938d-4764-b741-c86259575c31",
   "metadata": {},
   "outputs": [
    {
     "name": "stdout",
     "output_type": "stream",
     "text": [
      "Files already downloaded and verified\n"
     ]
    }
   ],
   "source": [
    "train_val_dataset = datasets.CIFAR10(root=r\"../data/cifar10\", train = True, download = True, transform = train_transforms)\n",
    "train_dataset = Subset(train_val_dataset, train_index)\n",
    "val_dataset = Subset(train_val_dataset, val_index)\n",
    "test_dataset = datasets.CIFAR10(root=r\"../data/cifar10\", train = False, download = False, transform = test_transforms)"
   ]
  },
  {
   "cell_type": "code",
   "execution_count": 8,
   "id": "1e69fd3c-c61b-466f-9de1-a37a97d06d98",
   "metadata": {},
   "outputs": [],
   "source": [
    "train_dataloader = DataLoader(train_dataset, batch_size = batch_size, num_workers = num_works, shuffle = True)\n",
    "val_dataloader = DataLoader(val_dataset, batch_size = batch_size, num_workers = num_works, shuffle = False)\n",
    "test_dataloader = DataLoader(test_dataset, batch_size = batch_size, num_workers = num_works, shuffle= False)"
   ]
  },
  {
   "cell_type": "code",
   "execution_count": 9,
   "id": "9a2132cb-88cf-451e-8cf9-169f6a7cb217",
   "metadata": {},
   "outputs": [],
   "source": [
    "classes_dict = dict(zip(range(0,10), ['airplane', 'automobile', 'bird', 'cat', 'deer', 'dog', 'frog', 'horse', 'ship', 'truck'])) "
   ]
  },
  {
   "cell_type": "code",
   "execution_count": 10,
   "id": "6acbe8d8-b049-439d-96d6-e8da8d88e3cb",
   "metadata": {},
   "outputs": [],
   "source": [
    "train_image_sample, train_label_sample = next(iter(train_dataloader))\n",
    "val_image_sample, val_label_sample = next(iter(val_dataloader))\n",
    "test_image_sample, test_label_sample = next(iter(test_dataloader))"
   ]
  },
  {
   "cell_type": "code",
   "execution_count": 11,
   "id": "4f146a4b-fc2c-4757-806b-bcdd5045043f",
   "metadata": {},
   "outputs": [
    {
     "name": "stdout",
     "output_type": "stream",
     "text": [
      "Train Set: image batch size= torch.Size([256, 3, 64, 64]), \t label batch size= torch.Size([256])\n",
      "Val   Set: image batch size= torch.Size([256, 3, 64, 64]), \t label batch size= torch.Size([256])\n",
      "Test  Set: image batch size= torch.Size([256, 3, 64, 64]), \t label batch size= torch.Size([256])\n"
     ]
    }
   ],
   "source": [
    "print(\"Train Set: image batch size= {}, \\t label batch size= {}\".format(train_image_sample.size(), train_label_sample.size()))\n",
    "print(\"Val   Set: image batch size= {}, \\t label batch size= {}\".format(val_image_sample.size(), val_label_sample.size()))\n",
    "print(\"Test  Set: image batch size= {}, \\t label batch size= {}\".format(test_image_sample.size(), test_label_sample.size()))"
   ]
  },
  {
   "cell_type": "code",
   "execution_count": 12,
   "id": "9fdec25c-fcef-4de2-826d-96108b1adcc0",
   "metadata": {},
   "outputs": [],
   "source": [
    "def img_show(img):\n",
    "    # img = img/2 + 0.5\n",
    "    plt.imshow(np.transpose(img.numpy(), (1, 2, 0)))"
   ]
  },
  {
   "cell_type": "code",
   "execution_count": 13,
   "id": "7df38ae7-7c11-4d5c-afed-d8d90e2f25dd",
   "metadata": {},
   "outputs": [
    {
     "name": "stdout",
     "output_type": "stream",
     "text": [
      "GroundTruth: \n",
      "   cat  ship  ship airplane\n"
     ]
    },
    {
     "data": {
      "image/png": "[encoded data removed]",
      "text/plain": [
       "<Figure size 432x288 with 1 Axes>"
      ]
     },
     "metadata": {
      "needs_background": "light"
     },
     "output_type": "display_data"
    }
   ],
   "source": [
    "img_show(torchvision.utils.make_grid(test_image_sample[:4]))\n",
    "\n",
    "print('GroundTruth: \\n', ' '.join('%5s' % classes_dict[test_label_sample[j].numpy().take(0)] for j in range(4)))"
   ]
  },
  {
   "cell_type": "markdown",
   "id": "b38ce49b-1306-40ba-97cb-55f0f364528d",
   "metadata": {},
   "source": [
    "#### 模型网络配置"
   ]
  },
  {
   "cell_type": "code",
   "execution_count": 14,
   "id": "e375f070-e11b-4b12-91de-6d4c7102abc5",
   "metadata": {},
   "outputs": [],
   "source": [
    "class AlexNet(nn.Module):\n",
    "    \"\"\"\n",
    "    input: 3*64*64\n",
    "    cv2d: kernel_size = 11*11 64  stride = 4, padding = 2 # 3*64*64  -> 64*15*15 floor((64-11 + 2*2 + 4)/4)]\n",
    "    relu: \n",
    "    max_pooling: kernel_size = 3*3, stride = 2            # 64*15*15 -> 64*7*7   floor((15-3+2)/2)\n",
    "    cv2d: kernel_size = 5*5 192, stride = 1, padding = 2  # 64*7*7   -> 192*7*7  floor((7-5 + 2*2 + 1)/1)\n",
    "    relu: \n",
    "    max_pooling: kernel_size = 3*3, stride = 2            # 192*7*7  -> 192*3*3  floor((7-3 + 2)/2)\n",
    "    cv2d: kernel_size = 3*3 384, padding = 1              # 192*3*3  -> 384*3*3  floor((3-3+1*2 + 1)/1)\n",
    "    relu:\n",
    "    cv2d: kernel_size = 3*3 256, padding = 1              # 384*3*3  -> 256*3*3  floor((3-3+1*2 + 1)/1)\n",
    "    relu:\n",
    "    cv2d: kernel_size = 3*3 256, padding = 1              # 256*3*3  -> 256*3*3  floor((3-3+1*2 + 1)/1)\n",
    "    relu:\n",
    "    max_pooling: kernel_size = 3*3, stride = 2            # 256*3*3  -> 256*1*1  floor((3-3+2)/2)\n",
    "    \n",
    "    # avg pooling\n",
    "    # fc\n",
    "    dropout:\n",
    "    line:\n",
    "    relu:\n",
    "    dropout:\n",
    "    line:\n",
    "    relu:\n",
    "    line\n",
    "    \"\"\"\n",
    "    def __init__(self):\n",
    "        super(AlexNet, self).__init__()\n",
    "        self.feature = nn.Sequential(nn.Conv2d(3, 64, kernel_size = 11, stride = 4, padding = 2), \n",
    "                                     nn.ReLU(inplace=True), \n",
    "                                     nn.MaxPool2d(kernel_size = 3, stride = 2), \n",
    "                                     nn.Conv2d(64, 192, kernel_size = 5, stride = 1, padding = 2), \n",
    "                                     nn.ReLU(inplace=True), \n",
    "                                     nn.MaxPool2d(kernel_size = 3, stride = 2), \n",
    "                                     nn.Conv2d(192, 384, kernel_size = 3, padding = 1), \n",
    "                                     nn.ReLU(inplace=True), \n",
    "                                     nn.Conv2d(384, 256, kernel_size = 3, padding = 1), \n",
    "                                     nn.ReLU(inplace=True), \n",
    "                                     nn.Conv2d(256, 256, kernel_size = 3, padding = 1),\n",
    "                                     nn.ReLU(inplace=True), \n",
    "                                     nn.MaxPool2d(kernel_size = 3, stride = 2)\n",
    "                                    )\n",
    "        self.avg_pool = nn.AdaptiveAvgPool2d((6, 6))\n",
    "        self.classifier = nn.Sequential(nn.Dropout(0.5), \n",
    "                                          nn.Linear(256*6*6, 4096), \n",
    "                                          nn.ReLU(inplace=True), \n",
    "                                          nn.Dropout(0.5), \n",
    "                                          nn.Linear(4096, 4096), \n",
    "                                          nn.ReLU(inplace=True), \n",
    "                                          nn.Linear(4096, num_class))\n",
    "    def forward(self, x):\n",
    "        x = self.feature(x)\n",
    "        x = self.avg_pool(x)\n",
    "        x = x.view(x.size(0), 256*6*6)\n",
    "        x = self.classifier(x)\n",
    "        x_prob = F.softmax(x, dim=1)\n",
    "        return x, x_prob"
   ]
  },
  {
   "cell_type": "markdown",
   "id": "d6fd17df-b666-48a0-a421-9e43e63972ae",
   "metadata": {},
   "source": [
    "#### 损失函数"
   ]
  },
  {
   "cell_type": "code",
   "execution_count": 15,
   "id": "224ae9f9-0a3b-441f-b1e6-3edd94b33c25",
   "metadata": {},
   "outputs": [],
   "source": [
    "criterion = nn.CrossEntropyLoss()"
   ]
  },
  {
   "cell_type": "markdown",
   "id": "70c0441c-3b54-420b-b7f6-b884b670189b",
   "metadata": {},
   "source": [
    "#### 优化器设置"
   ]
  },
  {
   "cell_type": "code",
   "execution_count": 16,
   "id": "7a46bb1a-4bf1-44df-a984-a6aafb987f38",
   "metadata": {},
   "outputs": [],
   "source": [
    "torch.manual_seed(1)\n",
    "model = AlexNet()\n",
    "model = model.cuda()\n",
    "optimizer = torch.optim.Adam(model.parameters(), lr = lr)"
   ]
  },
  {
   "cell_type": "markdown",
   "id": "754d72da-59d5-4121-b3a9-c21ff0952ea6",
   "metadata": {},
   "source": [
    "#### 训练模型"
   ]
  },
  {
   "cell_type": "code",
   "execution_count": 17,
   "id": "75d15be8-7e76-4d6d-b42b-e6718236e2b2",
   "metadata": {},
   "outputs": [],
   "source": [
    "def train(epoch):\n",
    "    model.train()\n",
    "    train_loss = 0\n",
    "    # true_list = list()\n",
    "    # predict_list = list()\n",
    "    for data, label in train_dataloader:\n",
    "        data, label = data.to(device), label.to(device)\n",
    "        optimizer.zero_grad()\n",
    "        logits, probas = model(data)\n",
    "        loss = criterion(logits, label)\n",
    "        loss.backward()\n",
    "        optimizer.step()\n",
    "        cost_list.extend([loss.item()])\n",
    "        train_loss += loss.item()*data.size(0)\n",
    "    train_loss = train_loss/len(train_dataloader.dataset)\n",
    "    # true_labeles, predict_labeles = np.concatenate(true_list), np.concatenate(predict_list)\n",
    "    # acc = np.sum(true_labeles == predict_labeles)/len(predict_labeles)\n",
    "    # train_acc_list.append(acc)\n",
    "    print(\"Epoch : {} \\t Train Loss: {:.6f}\".format(epoch, train_loss))"
   ]
  },
  {
   "cell_type": "markdown",
   "id": "0ecbd8e9-f152-4a79-acce-875f2e3975b7",
   "metadata": {},
   "source": [
    "#### 验证评估模型"
   ]
  },
  {
   "cell_type": "code",
   "execution_count": 18,
   "id": "4feefff9-4a97-42a8-801c-989c0c286a0c",
   "metadata": {},
   "outputs": [],
   "source": [
    "def val(epoch):\n",
    "    model.eval()\n",
    "    val_loss = 0\n",
    "    true_list = list()\n",
    "    predict_list = list()\n",
    "    for data, label in test_dataloader:\n",
    "        data, label = data.to(device), label.to(device)\n",
    "        with torch.no_grad():\n",
    "            logits, probas = model(data)\n",
    "            _, predicted_labels = torch.max(probas, 1)\n",
    "            # print(torch.max(probas, 1))\n",
    "            # label_hat = torch.argmax(logits, 1)\n",
    "            true_list.extend([label.cpu().data.numpy()])\n",
    "            predict_list.extend([predicted_labels.cpu().data.numpy()])\n",
    "            loss = criterion(logits, label)\n",
    "            val_loss += loss.item()*data.size(0)\n",
    "    val_loss = val_loss/len(test_dataloader.dataset)\n",
    "    true_labeles, predict_labeles = np.concatenate(true_list), np.concatenate(predict_list)\n",
    "    acc = np.sum(true_labeles == predict_labeles)/len(predict_labeles)\n",
    "    valid_acc_list.append(acc)\n",
    "    print(\"Epoch : {} \\t Validation Loss: {:.6f} \\t Accuracy : {:.6f}\".format(epoch, val_loss, acc))"
   ]
  },
  {
   "cell_type": "code",
   "execution_count": 19,
   "id": "f4d55c0e-d80c-4c88-8074-5ecd92770203",
   "metadata": {},
   "outputs": [
    {
     "name": "stdout",
     "output_type": "stream",
     "text": [
      "Epoch : 0 \t Train Loss: 1.956625\n",
      "Epoch : 0 \t Validation Loss: 1.683969 \t Accuracy : 0.349900\n",
      "Time Elapsed: 0.29 min\n",
      "Epoch : 1 \t Train Loss: 1.612120\n",
      "Epoch : 1 \t Validation Loss: 1.526409 \t Accuracy : 0.420200\n",
      "Time Elapsed: 0.58 min\n",
      "Epoch : 2 \t Train Loss: 1.417670\n",
      "Epoch : 2 \t Validation Loss: 1.433738 \t Accuracy : 0.470300\n",
      "Time Elapsed: 0.87 min\n",
      "Epoch : 3 \t Train Loss: 1.275409\n",
      "Epoch : 3 \t Validation Loss: 1.186683 \t Accuracy : 0.567500\n",
      "Time Elapsed: 1.16 min\n",
      "Epoch : 4 \t Train Loss: 1.192282\n",
      "Epoch : 4 \t Validation Loss: 1.147582 \t Accuracy : 0.587500\n",
      "Time Elapsed: 1.45 min\n",
      "Epoch : 5 \t Train Loss: 1.114032\n",
      "Epoch : 5 \t Validation Loss: 1.099266 \t Accuracy : 0.603700\n",
      "Time Elapsed: 1.74 min\n",
      "Epoch : 6 \t Train Loss: 1.032335\n",
      "Epoch : 6 \t Validation Loss: 1.042271 \t Accuracy : 0.625000\n",
      "Time Elapsed: 2.03 min\n",
      "Epoch : 7 \t Train Loss: 0.975304\n",
      "Epoch : 7 \t Validation Loss: 0.984191 \t Accuracy : 0.646300\n",
      "Time Elapsed: 2.32 min\n",
      "Epoch : 8 \t Train Loss: 0.921533\n",
      "Epoch : 8 \t Validation Loss: 0.962249 \t Accuracy : 0.662600\n",
      "Time Elapsed: 2.61 min\n",
      "Epoch : 9 \t Train Loss: 0.874184\n",
      "Epoch : 9 \t Validation Loss: 0.939211 \t Accuracy : 0.668800\n",
      "Time Elapsed: 2.89 min\n",
      "Epoch : 10 \t Train Loss: 0.820320\n",
      "Epoch : 10 \t Validation Loss: 0.932946 \t Accuracy : 0.673900\n",
      "Time Elapsed: 3.18 min\n",
      "Epoch : 11 \t Train Loss: 0.770882\n",
      "Epoch : 11 \t Validation Loss: 0.931257 \t Accuracy : 0.681700\n",
      "Time Elapsed: 3.47 min\n",
      "Epoch : 12 \t Train Loss: 0.737554\n",
      "Epoch : 12 \t Validation Loss: 0.903152 \t Accuracy : 0.695800\n",
      "Time Elapsed: 3.76 min\n",
      "Epoch : 13 \t Train Loss: 0.689808\n",
      "Epoch : 13 \t Validation Loss: 0.930496 \t Accuracy : 0.686000\n",
      "Time Elapsed: 4.05 min\n",
      "Epoch : 14 \t Train Loss: 0.647445\n",
      "Epoch : 14 \t Validation Loss: 0.918828 \t Accuracy : 0.696500\n",
      "Time Elapsed: 4.34 min\n",
      "Epoch : 15 \t Train Loss: 0.617882\n",
      "Epoch : 15 \t Validation Loss: 0.872203 \t Accuracy : 0.707900\n",
      "Time Elapsed: 4.63 min\n",
      "Epoch : 16 \t Train Loss: 0.567670\n",
      "Epoch : 16 \t Validation Loss: 0.873311 \t Accuracy : 0.709200\n",
      "Time Elapsed: 4.91 min\n",
      "Epoch : 17 \t Train Loss: 0.531012\n",
      "Epoch : 17 \t Validation Loss: 0.877117 \t Accuracy : 0.715200\n",
      "Time Elapsed: 5.20 min\n",
      "Epoch : 18 \t Train Loss: 0.499772\n",
      "Epoch : 18 \t Validation Loss: 0.941398 \t Accuracy : 0.705900\n",
      "Time Elapsed: 5.49 min\n",
      "Epoch : 19 \t Train Loss: 0.478148\n",
      "Epoch : 19 \t Validation Loss: 0.881678 \t Accuracy : 0.723000\n",
      "Time Elapsed: 5.78 min\n",
      "Epoch : 20 \t Train Loss: 0.431691\n",
      "Epoch : 20 \t Validation Loss: 0.949181 \t Accuracy : 0.708200\n",
      "Time Elapsed: 6.07 min\n",
      "Epoch : 21 \t Train Loss: 0.405898\n",
      "Epoch : 21 \t Validation Loss: 0.939925 \t Accuracy : 0.719500\n",
      "Time Elapsed: 6.36 min\n",
      "Epoch : 22 \t Train Loss: 0.373791\n",
      "Epoch : 22 \t Validation Loss: 0.920712 \t Accuracy : 0.723200\n",
      "Time Elapsed: 6.65 min\n",
      "Epoch : 23 \t Train Loss: 0.343859\n",
      "Epoch : 23 \t Validation Loss: 0.927232 \t Accuracy : 0.730500\n",
      "Time Elapsed: 6.94 min\n",
      "Epoch : 24 \t Train Loss: 0.316923\n",
      "Epoch : 24 \t Validation Loss: 0.979867 \t Accuracy : 0.712900\n",
      "Time Elapsed: 7.23 min\n",
      "Epoch : 25 \t Train Loss: 0.296461\n",
      "Epoch : 25 \t Validation Loss: 1.103871 \t Accuracy : 0.696900\n",
      "Time Elapsed: 7.52 min\n",
      "Epoch : 26 \t Train Loss: 0.279774\n",
      "Epoch : 26 \t Validation Loss: 0.988027 \t Accuracy : 0.727100\n",
      "Time Elapsed: 7.81 min\n",
      "Epoch : 27 \t Train Loss: 0.247336\n",
      "Epoch : 27 \t Validation Loss: 1.056195 \t Accuracy : 0.717600\n",
      "Time Elapsed: 8.10 min\n",
      "Epoch : 28 \t Train Loss: 0.223566\n",
      "Epoch : 28 \t Validation Loss: 1.075241 \t Accuracy : 0.725800\n",
      "Time Elapsed: 8.38 min\n",
      "Epoch : 29 \t Train Loss: 0.217767\n",
      "Epoch : 29 \t Validation Loss: 1.082114 \t Accuracy : 0.723600\n",
      "Time Elapsed: 8.67 min\n",
      "Epoch : 30 \t Train Loss: 0.193429\n",
      "Epoch : 30 \t Validation Loss: 1.150209 \t Accuracy : 0.720300\n",
      "Time Elapsed: 8.96 min\n",
      "Epoch : 31 \t Train Loss: 0.173040\n",
      "Epoch : 31 \t Validation Loss: 1.202512 \t Accuracy : 0.719900\n",
      "Time Elapsed: 9.25 min\n",
      "Epoch : 32 \t Train Loss: 0.179874\n",
      "Epoch : 32 \t Validation Loss: 1.152979 \t Accuracy : 0.721200\n",
      "Time Elapsed: 9.54 min\n",
      "Epoch : 33 \t Train Loss: 0.154954\n",
      "Epoch : 33 \t Validation Loss: 1.208695 \t Accuracy : 0.719500\n",
      "Time Elapsed: 9.82 min\n",
      "Epoch : 34 \t Train Loss: 0.145641\n",
      "Epoch : 34 \t Validation Loss: 1.258163 \t Accuracy : 0.714700\n",
      "Time Elapsed: 10.11 min\n",
      "Epoch : 35 \t Train Loss: 0.147388\n",
      "Epoch : 35 \t Validation Loss: 1.205424 \t Accuracy : 0.730800\n",
      "Time Elapsed: 10.40 min\n",
      "Epoch : 36 \t Train Loss: 0.122054\n",
      "Epoch : 36 \t Validation Loss: 1.295410 \t Accuracy : 0.721200\n",
      "Time Elapsed: 10.69 min\n",
      "Epoch : 37 \t Train Loss: 0.124386\n",
      "Epoch : 37 \t Validation Loss: 1.251898 \t Accuracy : 0.722500\n",
      "Time Elapsed: 10.97 min\n",
      "Epoch : 38 \t Train Loss: 0.123533\n",
      "Epoch : 38 \t Validation Loss: 1.196418 \t Accuracy : 0.726500\n",
      "Time Elapsed: 11.26 min\n",
      "Epoch : 39 \t Train Loss: 0.111744\n",
      "Epoch : 39 \t Validation Loss: 1.396030 \t Accuracy : 0.718500\n",
      "Time Elapsed: 11.55 min\n",
      "Total Training Time: 11.55 min\n"
     ]
    }
   ],
   "source": [
    "start_time = time.time()\n",
    "cost_list = list()\n",
    "train_acc_list = list()\n",
    "valid_acc_list = list()\n",
    "for i in range(epochs):\n",
    "    train(i)\n",
    "    val(i)\n",
    "    elapsed_time = (time.time() - start_time)/60\n",
    "    print(f'Time Elapsed: {elapsed_time:.2f} min')\n",
    "elapsed_time = (time.time() - start_time)/60\n",
    "print(f'Total Training Time: {elapsed_time:.2f} min')"
   ]
  },
  {
   "cell_type": "code",
   "execution_count": 20,
   "id": "88b86891-2634-4c2e-907d-81322332ed41",
   "metadata": {},
   "outputs": [
    {
     "data": {
      "image/png": "[encoded data removed]",
      "text/plain": [
       "<Figure size 432x288 with 1 Axes>"
      ]
     },
     "metadata": {
      "needs_background": "light"
     },
     "output_type": "display_data"
    }
   ],
   "source": [
    "plt.plot(cost_list, label='Minibatch cost')\n",
    "plt.plot(np.convolve(cost_list, \n",
    "                     np.ones(200,)/200, mode='valid'), \n",
    "         label='Running average')\n",
    "\n",
    "plt.ylabel('Cross Entropy')\n",
    "plt.xlabel('Iteration')\n",
    "plt.legend()\n",
    "plt.show()"
   ]
  },
  {
   "cell_type": "code",
   "execution_count": 21,
   "id": "5045a193-49d5-4d79-b150-f8e7d0183c6c",
   "metadata": {},
   "outputs": [
    {
     "data": {
      "image/png": "[encoded data removed]",
      "text/plain": [
       "<Figure size 432x288 with 1 Axes>"
      ]
     },
     "metadata": {
      "needs_background": "light"
     },
     "output_type": "display_data"
    }
   ],
   "source": [
    "plt.plot(np.arange(1, epochs+1), valid_acc_list, label='Validation')\n",
    "plt.xlabel('Epoch')\n",
    "plt.ylabel('Accuracy')\n",
    "plt.legend()\n",
    "plt.show()"
   ]
  },
  {
   "cell_type": "markdown",
   "id": "be34fc85-0cb9-4115-a150-4fb6e9697458",
   "metadata": {},
   "source": [
    "#### 保存模型"
   ]
  },
  {
   "cell_type": "code",
   "execution_count": 22,
   "id": "4842cd4d-e94f-47b5-91a3-410c47b36da4",
   "metadata": {},
   "outputs": [],
   "source": [
    "torch.save(model.state_dict(), r\"./model/cifar10_alexnet.pth\")"
   ]
  },
  {
   "cell_type": "code",
   "execution_count": 23,
   "id": "072923d5-a7b3-4556-8e81-0718eff85428",
   "metadata": {},
   "outputs": [
    {
     "name": "stdout",
     "output_type": "stream",
     "text": [
      "----------------------------------------------------------------\n",
      "        Layer (type)               Output Shape         Param #\n",
      "================================================================\n",
      "            Conv2d-1           [-1, 64, 15, 15]          23,296\n",
      "              ReLU-2           [-1, 64, 15, 15]               0\n",
      "         MaxPool2d-3             [-1, 64, 7, 7]               0\n",
      "            Conv2d-4            [-1, 192, 7, 7]         307,392\n",
      "              ReLU-5            [-1, 192, 7, 7]               0\n",
      "         MaxPool2d-6            [-1, 192, 3, 3]               0\n",
      "            Conv2d-7            [-1, 384, 3, 3]         663,936\n",
      "              ReLU-8            [-1, 384, 3, 3]               0\n",
      "            Conv2d-9            [-1, 256, 3, 3]         884,992\n",
      "             ReLU-10            [-1, 256, 3, 3]               0\n",
      "           Conv2d-11            [-1, 256, 3, 3]         590,080\n",
      "             ReLU-12            [-1, 256, 3, 3]               0\n",
      "        MaxPool2d-13            [-1, 256, 1, 1]               0\n",
      "AdaptiveAvgPool2d-14            [-1, 256, 6, 6]               0\n",
      "          Dropout-15                 [-1, 9216]               0\n",
      "           Linear-16                 [-1, 4096]      37,752,832\n",
      "             ReLU-17                 [-1, 4096]               0\n",
      "          Dropout-18                 [-1, 4096]               0\n",
      "           Linear-19                 [-1, 4096]      16,781,312\n",
      "             ReLU-20                 [-1, 4096]               0\n",
      "           Linear-21                   [-1, 10]          40,970\n",
      "================================================================\n",
      "Total params: 57,044,810\n",
      "Trainable params: 57,044,810\n",
      "Non-trainable params: 0\n",
      "----------------------------------------------------------------\n",
      "Input size (MB): 0.05\n",
      "Forward/backward pass size (MB): 0.82\n",
      "Params size (MB): 217.61\n",
      "Estimated Total Size (MB): 218.48\n",
      "----------------------------------------------------------------\n"
     ]
    }
   ],
   "source": [
    "summary(model, (3, 64, 64))"
   ]
  },
  {
   "cell_type": "markdown",
   "id": "3a4cbe86-a29b-46c5-b486-d0bd087a41b3",
   "metadata": {},
   "source": [
    "#### 预测"
   ]
  },
  {
   "cell_type": "code",
   "execution_count": 24,
   "id": "cc5c1198-f8c4-4b54-bbc5-26c6feb76f93",
   "metadata": {},
   "outputs": [],
   "source": [
    "def inference(dataloader_test, pth_model_path):\n",
    "    model = AlexNet().to(device)\n",
    "    model.load_state_dict(torch.load(pth_model_path))\n",
    "    model.eval()\n",
    "    predict_label_list = list()\n",
    "    test_feature_list = list()\n",
    "    for batch, data in enumerate(dataloader_test):\n",
    "        x = data[0]\n",
    "        x  = x.to(device)\n",
    "        logits, probas = model(x)\n",
    "        _, predicted_labels = torch.max(probas, 1)\n",
    "        test_feature_list.append(x)\n",
    "        predict_label_list.extend(predicted_labels.cpu().detach().numpy())\n",
    "    test_feature = torch.cat(test_feature_list)\n",
    "    return test_feature, predict_label_list"
   ]
  },
  {
   "cell_type": "code",
   "execution_count": 25,
   "id": "894ea318-a7fe-465c-ad53-e9703d4289db",
   "metadata": {},
   "outputs": [],
   "source": [
    "test_feature, predict_labels = inference(test_dataloader, pth_model_path=r\"./model/cifar10_alexnet.pth\")"
   ]
  },
  {
   "cell_type": "code",
   "execution_count": 26,
   "id": "c9c7f783-be21-46de-9c0b-677ae2c81337",
   "metadata": {},
   "outputs": [
    {
     "name": "stdout",
     "output_type": "stream",
     "text": [
      "预测结果为：truck\n"
     ]
    },
    {
     "data": {
      "image/png": "[encoded data removed]",
      "text/plain": [
       "<Figure size 432x288 with 1 Axes>"
      ]
     },
     "metadata": {
      "needs_background": "light"
     },
     "output_type": "display_data"
    }
   ],
   "source": [
    "test_index = random.randint(0, len(predict_labels))\n",
    "img_show(torchvision.utils.make_grid(test_feature[test_index].cpu()))\n",
    "print('预测结果为：{}'.format(classes_dict[predict_labels[test_index]]))"
   ]
  },
  {
   "cell_type": "code",
   "execution_count": null,
   "id": "aabc687b-375d-4bde-b2bd-2eed1ec9985e",
   "metadata": {},
   "outputs": [],
   "source": []
  }
 ],
 "metadata": {
  "kernelspec": {
   "display_name": "Python 3 (ipykernel)",
   "language": "python",
   "name": "python3"
  },
  "language_info": {
   "codemirror_mode": {
    "name": "ipython",
    "version": 3
   },
   "file_extension": ".py",
   "mimetype": "text/x-python",
   "name": "python",
   "nbconvert_exporter": "python",
   "pygments_lexer": "ipython3",
   "version": "3.9.12"
  }
 },
 "nbformat": 4,
 "nbformat_minor": 5
}
