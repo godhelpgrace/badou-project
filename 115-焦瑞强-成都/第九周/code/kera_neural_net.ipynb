{
 "cells": [
  {
   "cell_type": "markdown",
   "id": "adb5354d-cc89-41ae-870d-3a663b65859e",
   "metadata": {},
   "source": [
    "### 导入所需要的包"
   ]
  },
  {
   "cell_type": "code",
   "execution_count": 1,
   "id": "b53d859f-4209-478d-9c63-e489b013a59a",
   "metadata": {},
   "outputs": [],
   "source": [
    "import os\n",
    "import random\n",
    "from tensorflow.keras.datasets import mnist\n",
    "from tensorflow.keras import models\n",
    "from tensorflow.keras import layers\n",
    "from tensorflow.keras.utils import to_categorical\n",
    "import matplotlib.pyplot as plt\n",
    "%matplotlib inline"
   ]
  },
  {
   "cell_type": "markdown",
   "id": "056c6faa-9563-49dd-ba01-2b5050c7fb39",
   "metadata": {},
   "source": [
    "### 配置环境与超参数"
   ]
  },
  {
   "cell_type": "code",
   "execution_count": 2,
   "id": "6e5b0eeb-2cd3-4c51-9826-956bf98d87d8",
   "metadata": {},
   "outputs": [],
   "source": [
    "os.environ[\"CUDA_VISIBLE_DEVICES\"] = \"0\"\n",
    "epochs = 5\n",
    "batch_size = 128"
   ]
  },
  {
   "cell_type": "markdown",
   "id": "f8621629-e39f-41f4-9fd4-a3434e881be2",
   "metadata": {},
   "source": [
    "### 数据读入与加载"
   ]
  },
  {
   "cell_type": "code",
   "execution_count": 3,
   "id": "b9aec47a-c9ef-468c-933a-4adbc2ca59c1",
   "metadata": {},
   "outputs": [],
   "source": [
    "(train_img, train_label), (test_img, test_label) = mnist.load_data()"
   ]
  },
  {
   "cell_type": "code",
   "execution_count": 4,
   "id": "398b4545-e821-4efd-8e09-1b56b8135a91",
   "metadata": {},
   "outputs": [
    {
     "data": {
      "text/plain": [
       "(60000, 28, 28)"
      ]
     },
     "execution_count": 4,
     "metadata": {},
     "output_type": "execute_result"
    }
   ],
   "source": [
    "train_img.shape"
   ]
  },
  {
   "cell_type": "code",
   "execution_count": 5,
   "id": "2ceb6cc4-0241-47cf-b078-621964412ce3",
   "metadata": {},
   "outputs": [
    {
     "data": {
      "text/plain": [
       "(10000, 28, 28)"
      ]
     },
     "execution_count": 5,
     "metadata": {},
     "output_type": "execute_result"
    }
   ],
   "source": [
    "test_img.shape"
   ]
  },
  {
   "cell_type": "code",
   "execution_count": 6,
   "id": "6e86c2ee-7062-4e9f-a4c6-0422cffb0340",
   "metadata": {},
   "outputs": [
    {
     "data": {
      "text/plain": [
       "array([5, 0, 4, ..., 5, 6, 8], dtype=uint8)"
      ]
     },
     "execution_count": 6,
     "metadata": {},
     "output_type": "execute_result"
    }
   ],
   "source": [
    "train_label"
   ]
  },
  {
   "cell_type": "code",
   "execution_count": 7,
   "id": "f596ba61-8eb8-467f-afc8-d4b1fa389bcb",
   "metadata": {},
   "outputs": [
    {
     "data": {
      "image/png": "[encoded data removed]",
      "text/plain": [
       "<Figure size 432x288 with 1 Axes>"
      ]
     },
     "metadata": {
      "needs_background": "light"
     },
     "output_type": "display_data"
    }
   ],
   "source": [
    "plt.imshow(train_img[0], cmap=plt.cm.binary)\n",
    "plt.show()"
   ]
  },
  {
   "cell_type": "markdown",
   "id": "f6b1fda5-89cb-4f7b-997e-3cd4bfbcb2c3",
   "metadata": {},
   "source": [
    "#### 数据预处理"
   ]
  },
  {
   "cell_type": "code",
   "execution_count": 8,
   "id": "da6f0d85-bedc-417b-ba27-c2f29844eaa6",
   "metadata": {},
   "outputs": [],
   "source": [
    "train_img = train_img.reshape((train_img.shape[0], 28*28))\n",
    "train_img = train_img.astype(\"float32\")/255\n",
    "\n",
    "test_img = test_img.reshape((test_img.shape[0], 28*28))\n",
    "test_img = test_img.astype(\"float32\")/255"
   ]
  },
  {
   "cell_type": "code",
   "execution_count": 9,
   "id": "a26c6023-3425-471f-bff8-e2f25441e121",
   "metadata": {},
   "outputs": [],
   "source": [
    "train_label = to_categorical(train_label)\n",
    "test_label = to_categorical(test_label)"
   ]
  },
  {
   "cell_type": "code",
   "execution_count": 10,
   "id": "5e58e9ef-745f-4744-b340-a322862bb980",
   "metadata": {},
   "outputs": [
    {
     "data": {
      "text/plain": [
       "(60000, 784)"
      ]
     },
     "execution_count": 10,
     "metadata": {},
     "output_type": "execute_result"
    }
   ],
   "source": [
    "train_img.shape"
   ]
  },
  {
   "cell_type": "markdown",
   "id": "d5961585-f14f-4a9a-9f62-dd3e026018c1",
   "metadata": {},
   "source": [
    "### 模型设计"
   ]
  },
  {
   "cell_type": "code",
   "execution_count": 11,
   "id": "6f7cf6c6-5fd2-430a-bb8f-9b157586e9c5",
   "metadata": {},
   "outputs": [
    {
     "name": "stderr",
     "output_type": "stream",
     "text": [
      "2022-07-28 22:41:44.365086: I tensorflow/compiler/jit/xla_cpu_device.cc:41] Not creating XLA devices, tf_xla_enable_xla_devices not set\n",
      "2022-07-28 22:41:44.365656: I tensorflow/core/platform/cpu_feature_guard.cc:142] This TensorFlow binary is optimized with oneAPI Deep Neural Network Library (oneDNN) to use the following CPU instructions in performance-critical operations:  SSE4.1 SSE4.2 AVX AVX2 FMA\n",
      "To enable them in other operations, rebuild TensorFlow with the appropriate compiler flags.\n",
      "2022-07-28 22:41:44.370914: I tensorflow/core/common_runtime/process_util.cc:146] Creating new thread pool with default inter op setting: 2. Tune using inter_op_parallelism_threads for best performance.\n"
     ]
    }
   ],
   "source": [
    "net_work = models.Sequential()\n",
    "net_work.add(layers.Dense(512, activation=\"relu\", input_shape=(28*28,)))\n",
    "net_work.add(layers.Dense(10, activation=\"softmax\"))"
   ]
  },
  {
   "cell_type": "markdown",
   "id": "858a5916-8777-4348-9c02-20659830d318",
   "metadata": {},
   "source": [
    "### 编译模型"
   ]
  },
  {
   "cell_type": "code",
   "execution_count": 12,
   "id": "0cdef4ea-b424-46b2-b6da-38a568257dc6",
   "metadata": {},
   "outputs": [],
   "source": [
    "net_work.compile(optimizer=\"rmsprop\", loss=\"categorical_crossentropy\", metrics=[\"accuracy\"])"
   ]
  },
  {
   "cell_type": "markdown",
   "id": "439a835d-3f93-435c-be35-ef675f6db963",
   "metadata": {},
   "source": [
    "### 拟合模型"
   ]
  },
  {
   "cell_type": "code",
   "execution_count": 13,
   "id": "2ff654e0-84cb-41fc-83ba-d65c674bbaa2",
   "metadata": {},
   "outputs": [
    {
     "name": "stderr",
     "output_type": "stream",
     "text": [
      "2022-07-28 22:41:45.328138: I tensorflow/compiler/mlir/mlir_graph_optimization_pass.cc:116] None of the MLIR optimization passes are enabled (registered 2)\n",
      "2022-07-28 22:41:45.328662: I tensorflow/core/platform/profile_utils/cpu_utils.cc:112] CPU Frequency: 2299760000 Hz\n"
     ]
    },
    {
     "name": "stdout",
     "output_type": "stream",
     "text": [
      "Epoch 1/5\n",
      "469/469 [==============================] - 50s 104ms/step - loss: 0.4405 - accuracy: 0.8713\n",
      "Epoch 2/5\n",
      "469/469 [==============================] - 48s 103ms/step - loss: 0.1121 - accuracy: 0.9682\n",
      "Epoch 3/5\n",
      "469/469 [==============================] - 47s 100ms/step - loss: 0.0693 - accuracy: 0.9794\n",
      "Epoch 4/5\n",
      "469/469 [==============================] - 46s 97ms/step - loss: 0.0498 - accuracy: 0.9844\n",
      "Epoch 5/5\n",
      "469/469 [==============================] - 46s 99ms/step - loss: 0.0343 - accuracy: 0.9898\n"
     ]
    },
    {
     "data": {
      "text/plain": [
       "<tensorflow.python.keras.callbacks.History at 0x7f4132c56580>"
      ]
     },
     "execution_count": 13,
     "metadata": {},
     "output_type": "execute_result"
    }
   ],
   "source": [
    "net_work.fit(train_img, train_label, epochs=epochs, batch_size=batch_size)"
   ]
  },
  {
   "cell_type": "code",
   "execution_count": 14,
   "id": "a2fad776-916b-490a-b4e4-06c0d79374ff",
   "metadata": {},
   "outputs": [
    {
     "name": "stdout",
     "output_type": "stream",
     "text": [
      "Model: \"sequential\"\n",
      "_________________________________________________________________\n",
      "Layer (type)                 Output Shape              Param #   \n",
      "=================================================================\n",
      "dense (Dense)                (None, 512)               401920    \n",
      "_________________________________________________________________\n",
      "dense_1 (Dense)              (None, 10)                5130      \n",
      "=================================================================\n",
      "Total params: 407,050\n",
      "Trainable params: 407,050\n",
      "Non-trainable params: 0\n",
      "_________________________________________________________________\n"
     ]
    }
   ],
   "source": [
    "net_work.summary()"
   ]
  },
  {
   "cell_type": "markdown",
   "id": "65e6882c-4313-45d2-8bd8-5cb2ccdb7e65",
   "metadata": {},
   "source": [
    "### 评估模型"
   ]
  },
  {
   "cell_type": "code",
   "execution_count": 15,
   "id": "c2e50f4f-be65-43f5-b7be-9043e1e93a10",
   "metadata": {},
   "outputs": [
    {
     "name": "stdout",
     "output_type": "stream",
     "text": [
      "313/313 [==============================] - 19s 60ms/step - loss: 0.0722 - accuracy: 0.9792\n",
      "Test Lose: 0.072233, Test Accuracy: 0.979200\n"
     ]
    }
   ],
   "source": [
    "test_loss, test_acc = net_work.evaluate(test_img, test_label, verbose=1)\n",
    "print(f'Test Lose: {test_loss:.6f}, Test Accuracy: {test_acc:.6f}')"
   ]
  },
  {
   "cell_type": "markdown",
   "id": "5dccc502-618b-49ee-a5ec-083c8228f1fe",
   "metadata": {},
   "source": [
    "### 推理"
   ]
  },
  {
   "cell_type": "code",
   "execution_count": 16,
   "id": "d2316df9-6f2b-4377-9442-8f1bdd60a376",
   "metadata": {},
   "outputs": [
    {
     "data": {
      "image/png": "[encoded data removed]",
      "text/plain": [
       "<Figure size 432x288 with 1 Axes>"
      ]
     },
     "metadata": {
      "needs_background": "light"
     },
     "output_type": "display_data"
    },
    {
     "name": "stdout",
     "output_type": "stream",
     "text": [
      "预测结果为：0\n"
     ]
    }
   ],
   "source": [
    "test_index = random.randint(0, test_img.shape[0])\n",
    "plt.imshow(test_img[test_index].reshape(1, 28 , 28)[0], cmap=plt.cm.binary)\n",
    "plt.show()\n",
    "res = net_work.predict(test_img)\n",
    "parser_val = res[test_index].argmax()\n",
    "print('预测结果为：{}'.format(parser_val))"
   ]
  },
  {
   "cell_type": "code",
   "execution_count": null,
   "id": "11c76df8-98c6-4aec-b377-1072f0920c98",
   "metadata": {},
   "outputs": [],
   "source": []
  }
 ],
 "metadata": {
  "kernelspec": {
   "display_name": "Python 3 (ipykernel)",
   "language": "python",
   "name": "python3"
  },
  "language_info": {
   "codemirror_mode": {
    "name": "ipython",
    "version": 3
   },
   "file_extension": ".py",
   "mimetype": "text/x-python",
   "name": "python",
   "nbconvert_exporter": "python",
   "pygments_lexer": "ipython3",
   "version": "3.9.12"
  }
 },
 "nbformat": 4,
 "nbformat_minor": 5
}
